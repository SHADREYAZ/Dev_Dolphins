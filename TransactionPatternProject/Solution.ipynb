{
 "cells": [
  {
   "cell_type": "code",
   "execution_count": 0,
   "metadata": {
    "application/vnd.databricks.v1+cell": {
     "cellMetadata": {
      "byteLimit": 2048000,
      "rowLimit": 10000
     },
     "inputWidgets": {},
     "nuid": "df5567de-ef57-409e-980b-6b05f40dcfc1",
     "showTitle": false,
     "tableResultSettingsMap": {},
     "title": ""
    }
   },
   "outputs": [],
   "source": [
    "import os\n",
    "from io import StringIO\n",
    "import pandas as pd\n",
    "from pyspark.sql.functions import *\n",
    "from pyspark.sql.window import Window\n",
    "import time\n",
    "from datetime import datetime"
   ]
  },
  {
   "cell_type": "code",
   "execution_count": 0,
   "metadata": {
    "application/vnd.databricks.v1+cell": {
     "cellMetadata": {
      "byteLimit": 2048000,
      "rowLimit": 10000
     },
     "inputWidgets": {},
     "nuid": "a525c0d2-15b6-4295-8efb-81d14ba68268",
     "showTitle": false,
     "tableResultSettingsMap": {},
     "title": ""
    }
   },
   "outputs": [],
   "source": [
    "    #    os.makedirs(\"/Volumes/workspace/default/myprojectdata/raw_chunks/\", exist_ok=True)\n",
    "    #    os.makedirs(\"/Volumes/workspace/default/myprojectdata/output_bucket/\", exist_ok=True)\n",
    "    #    os.makedirs(\"/Volumes/workspace/default/myprojectdata/processed_file/\", exist_ok=True)"
   ]
  },
  {
   "cell_type": "code",
   "execution_count": 0,
   "metadata": {
    "application/vnd.databricks.v1+cell": {
     "cellMetadata": {
      "byteLimit": 2048000,
      "rowLimit": 10000
     },
     "collapsed": true,
     "inputWidgets": {},
     "nuid": "4a886c72-d137-4d16-b530-8d69a05b3db5",
     "showTitle": false,
     "tableResultSettingsMap": {},
     "title": ""
    }
   },
   "outputs": [
    {
     "output_type": "display_data",
     "data": {
      "text/html": [
       "<style scoped>\n",
       "  .table-result-container {\n",
       "    max-height: 300px;\n",
       "    overflow: auto;\n",
       "  }\n",
       "  table, th, td {\n",
       "    border: 1px solid black;\n",
       "    border-collapse: collapse;\n",
       "  }\n",
       "  th, td {\n",
       "    padding: 5px;\n",
       "  }\n",
       "  th {\n",
       "    text-align: left;\n",
       "  }\n",
       "</style><div class='table-result-container'><table class='table-result'><thead style='background-color: white'><tr><th>path</th><th>name</th><th>size</th><th>modificationTime</th></tr></thead><tbody><tr><td>dbfs:/Volumes/workspace/default/myprojectdata/raw_chunks/chunk_0.csv</td><td>chunk_0.csv</td><td>798072</td><td>1749896974000</td></tr><tr><td>dbfs:/Volumes/workspace/default/myprojectdata/raw_chunks/chunk_1.csv</td><td>chunk_1.csv</td><td>798789</td><td>1749896976000</td></tr><tr><td>dbfs:/Volumes/workspace/default/myprojectdata/raw_chunks/chunk_10.csv</td><td>chunk_10.csv</td><td>809404</td><td>1749896986000</td></tr><tr><td>dbfs:/Volumes/workspace/default/myprojectdata/raw_chunks/chunk_11.csv</td><td>chunk_11.csv</td><td>809646</td><td>1749896987000</td></tr><tr><td>dbfs:/Volumes/workspace/default/myprojectdata/raw_chunks/chunk_12.csv</td><td>chunk_12.csv</td><td>809769</td><td>1749896988000</td></tr><tr><td>dbfs:/Volumes/workspace/default/myprojectdata/raw_chunks/chunk_13.csv</td><td>chunk_13.csv</td><td>809803</td><td>1749896990000</td></tr><tr><td>dbfs:/Volumes/workspace/default/myprojectdata/raw_chunks/chunk_14.csv</td><td>chunk_14.csv</td><td>810058</td><td>1749896991000</td></tr><tr><td>dbfs:/Volumes/workspace/default/myprojectdata/raw_chunks/chunk_15.csv</td><td>chunk_15.csv</td><td>809107</td><td>1749896992000</td></tr><tr><td>dbfs:/Volumes/workspace/default/myprojectdata/raw_chunks/chunk_16.csv</td><td>chunk_16.csv</td><td>187728</td><td>1749896993000</td></tr><tr><td>dbfs:/Volumes/workspace/default/myprojectdata/raw_chunks/chunk_2.csv</td><td>chunk_2.csv</td><td>804491</td><td>1749896977000</td></tr><tr><td>dbfs:/Volumes/workspace/default/myprojectdata/raw_chunks/chunk_3.csv</td><td>chunk_3.csv</td><td>808967</td><td>1749896978000</td></tr><tr><td>dbfs:/Volumes/workspace/default/myprojectdata/raw_chunks/chunk_4.csv</td><td>chunk_4.csv</td><td>809376</td><td>1749896979000</td></tr><tr><td>dbfs:/Volumes/workspace/default/myprojectdata/raw_chunks/chunk_5.csv</td><td>chunk_5.csv</td><td>809533</td><td>1749896980000</td></tr><tr><td>dbfs:/Volumes/workspace/default/myprojectdata/raw_chunks/chunk_6.csv</td><td>chunk_6.csv</td><td>809439</td><td>1749896982000</td></tr><tr><td>dbfs:/Volumes/workspace/default/myprojectdata/raw_chunks/chunk_7.csv</td><td>chunk_7.csv</td><td>808863</td><td>1749896983000</td></tr><tr><td>dbfs:/Volumes/workspace/default/myprojectdata/raw_chunks/chunk_8.csv</td><td>chunk_8.csv</td><td>809211</td><td>1749896984000</td></tr><tr><td>dbfs:/Volumes/workspace/default/myprojectdata/raw_chunks/chunk_9.csv</td><td>chunk_9.csv</td><td>809696</td><td>1749896985000</td></tr></tbody></table></div>"
      ]
     },
     "metadata": {
      "application/vnd.databricks.v1+output": {
       "addedWidgets": {},
       "aggData": [],
       "aggError": "",
       "aggOverflow": false,
       "aggSchema": [],
       "aggSeriesLimitReached": false,
       "aggType": "",
       "arguments": {},
       "columnCustomDisplayInfos": {},
       "data": [
        [
         "dbfs:/Volumes/workspace/default/myprojectdata/raw_chunks/chunk_0.csv",
         "chunk_0.csv",
         798072,
         1749896974000
        ],
        [
         "dbfs:/Volumes/workspace/default/myprojectdata/raw_chunks/chunk_1.csv",
         "chunk_1.csv",
         798789,
         1749896976000
        ],
        [
         "dbfs:/Volumes/workspace/default/myprojectdata/raw_chunks/chunk_10.csv",
         "chunk_10.csv",
         809404,
         1749896986000
        ],
        [
         "dbfs:/Volumes/workspace/default/myprojectdata/raw_chunks/chunk_11.csv",
         "chunk_11.csv",
         809646,
         1749896987000
        ],
        [
         "dbfs:/Volumes/workspace/default/myprojectdata/raw_chunks/chunk_12.csv",
         "chunk_12.csv",
         809769,
         1749896988000
        ],
        [
         "dbfs:/Volumes/workspace/default/myprojectdata/raw_chunks/chunk_13.csv",
         "chunk_13.csv",
         809803,
         1749896990000
        ],
        [
         "dbfs:/Volumes/workspace/default/myprojectdata/raw_chunks/chunk_14.csv",
         "chunk_14.csv",
         810058,
         1749896991000
        ],
        [
         "dbfs:/Volumes/workspace/default/myprojectdata/raw_chunks/chunk_15.csv",
         "chunk_15.csv",
         809107,
         1749896992000
        ],
        [
         "dbfs:/Volumes/workspace/default/myprojectdata/raw_chunks/chunk_16.csv",
         "chunk_16.csv",
         187728,
         1749896993000
        ],
        [
         "dbfs:/Volumes/workspace/default/myprojectdata/raw_chunks/chunk_2.csv",
         "chunk_2.csv",
         804491,
         1749896977000
        ],
        [
         "dbfs:/Volumes/workspace/default/myprojectdata/raw_chunks/chunk_3.csv",
         "chunk_3.csv",
         808967,
         1749896978000
        ],
        [
         "dbfs:/Volumes/workspace/default/myprojectdata/raw_chunks/chunk_4.csv",
         "chunk_4.csv",
         809376,
         1749896979000
        ],
        [
         "dbfs:/Volumes/workspace/default/myprojectdata/raw_chunks/chunk_5.csv",
         "chunk_5.csv",
         809533,
         1749896980000
        ],
        [
         "dbfs:/Volumes/workspace/default/myprojectdata/raw_chunks/chunk_6.csv",
         "chunk_6.csv",
         809439,
         1749896982000
        ],
        [
         "dbfs:/Volumes/workspace/default/myprojectdata/raw_chunks/chunk_7.csv",
         "chunk_7.csv",
         808863,
         1749896983000
        ],
        [
         "dbfs:/Volumes/workspace/default/myprojectdata/raw_chunks/chunk_8.csv",
         "chunk_8.csv",
         809211,
         1749896984000
        ],
        [
         "dbfs:/Volumes/workspace/default/myprojectdata/raw_chunks/chunk_9.csv",
         "chunk_9.csv",
         809696,
         1749896985000
        ]
       ],
       "datasetInfos": [],
       "dbfsResultPath": null,
       "isJsonSchema": true,
       "metadata": {},
       "overflow": false,
       "plotOptions": {
        "customPlotOptions": {},
        "displayType": "table",
        "pivotAggregation": null,
        "pivotColumns": null,
        "xColumns": null,
        "yColumns": null
       },
       "removedWidgets": [],
       "schema": [
        {
         "metadata": "{}",
         "name": "path",
         "type": "\"string\""
        },
        {
         "metadata": "{}",
         "name": "name",
         "type": "\"string\""
        },
        {
         "metadata": "{}",
         "name": "size",
         "type": "\"long\""
        },
        {
         "metadata": "{}",
         "name": "modificationTime",
         "type": "\"long\""
        }
       ],
       "type": "table"
      }
     },
     "output_type": "display_data"
    }
   ],
   "source": [
    "display(dbutils.fs.ls(\"/Volumes/workspace/default/myprojectdata/raw_chunks/\"))"
   ]
  },
  {
   "cell_type": "code",
   "execution_count": 0,
   "metadata": {
    "application/vnd.databricks.v1+cell": {
     "cellMetadata": {
      "byteLimit": 2048000,
      "rowLimit": 10000
     },
     "inputWidgets": {},
     "nuid": "0d0d928c-7493-42f6-a8ce-764aedbf97ff",
     "showTitle": true,
     "tableResultSettingsMap": {},
     "title": "X"
    }
   },
   "outputs": [],
   "source": [
    "def ingest_transactions():\n",
    "    \"\"\"\n",
    "    Ingests transactions from a CSV file and splits them into smaller chunks.\n",
    "\n",
    "    This function reads a large transactions CSV file from a specified path, splits it into smaller chunks of 10,000 rows each,\n",
    "    and saves each chunk as a separate CSV file in a specified directory. It waits for 1 second between processing each chunk.\n",
    "\n",
    "    The function performs the following steps:\n",
    "    1. Reads the full transactions file from the specified path.\n",
    "    2. Splits the data into chunks of 10,000 rows each.\n",
    "    3. Converts each chunk to a CSV string.\n",
    "    4. Saves each chunk locally in the specified directory.\n",
    "    5. Waits for 1 second before processing the next chunk.\n",
    "\n",
    "    Returns:\n",
    "        None\n",
    "    \"\"\"\n",
    "    transactions_path = \"/Volumes/workspace/default/myprojectdata/transactions.csv\"\n",
    "    full_df = pd.read_csv(transactions_path)\n",
    "    \n",
    "    chunk_size = 10000\n",
    "    total_chunks = len(full_df) // chunk_size + 1\n",
    "    \n",
    "    for i in range(total_chunks):\n",
    "        start_idx = i * chunk_size\n",
    "        end_idx = (i + 1) * chunk_size\n",
    "        chunk = full_df.iloc[start_idx:end_idx]\n",
    "        \n",
    "        csv_buffer = StringIO()\n",
    "        chunk.to_csv(csv_buffer, index=False)\n",
    "        \n",
    "        local_path = f\"/Volumes/workspace/default/myprojectdata/raw_chunks/chunk_{i}.csv\"\n",
    "        with open(local_path, 'w') as f:\n",
    "            f.write(csv_buffer.getvalue())\n",
    "        \n",
    "        time.sleep(1)\n",
    "\n",
    "if __name__ == \"__main__\":\n",
    "    ingest_transactions()"
   ]
  },
  {
   "cell_type": "code",
   "execution_count": 0,
   "metadata": {
    "application/vnd.databricks.v1+cell": {
     "cellMetadata": {
      "byteLimit": 2048000,
      "rowLimit": 10000
     },
     "inputWidgets": {},
     "nuid": "959e3ed4-51ed-414a-afc5-1b09e2d3d8bc",
     "showTitle": true,
     "tableResultSettingsMap": {},
     "title": "Patterns"
    }
   },
   "outputs": [],
   "source": [
    "def process_pattern1(df):\n",
    "    \"\"\"\n",
    "    Detects pattern 1 in the given DataFrame.\n",
    "\n",
    "    This function identifies the top 1% transactions by amount for each merchant, \n",
    "    joins them with customer importance data, filters for transactions with weight \n",
    "    less than or equal to 0.01, and further filters for merchants with more than \n",
    "    50,000 transactions. The final detections are saved.\n",
    "\n",
    "    Args:\n",
    "        df (DataFrame): Input DataFrame containing transaction data.\n",
    "\n",
    "    Returns:\n",
    "        None\n",
    "    \"\"\"\n",
    "    window = Window.partitionBy(\"merchant\").orderBy(col(\"amount\").desc())\n",
    "    ranked_df = df.withColumn(\"percent_rank\", percent_rank().over(window))\n",
    "    \n",
    "    top_1_percent = ranked_df.filter(col(\"percent_rank\") <= 0.01)\n",
    "    \n",
    "    customer_importance = spark.read.csv(\"/Volumes/workspace/default/myprojectdata/CustomerImportance.csv\", header=True)\n",
    "    joined_df = top_1_percent.join(customer_importance, \n",
    "                                 (top_1_percent.customer == customer_importance.Source) &\n",
    "                                 (top_1_percent.merchant == customer_importance.Target))\n",
    "    \n",
    "    bottom_1_weight = joined_df.filter(col(\"weight\") <= 0.01)\n",
    "    \n",
    "    merchant_totals = df.groupBy(\"merchant\").agg(count(\"*\").alias(\"totalTransactions\"))\n",
    "    valid_merchants = merchant_totals.filter(col(\"totalTransactions\") > 50000)\n",
    "    \n",
    "    final_detections = bottom_1_weight.join(valid_merchants, \"merchant\")\n",
    "    \n",
    "    output = final_detections.select(\n",
    "        lit(datetime.now()).alias(\"YStartTime\"),\n",
    "        lit(datetime.now()).alias(\"detectionTime\"),\n",
    "        lit(\"PatId1\").alias(\"patternId\"),\n",
    "        lit(\"UPGRADE\").alias(\"ActionType\"),\n",
    "        col(\"customer\"),\n",
    "        col(\"merchant\").alias(\"MerchantId\")\n",
    "    )\n",
    "    \n",
    "    save_detections(output)\n",
    "\n",
    "def process_pattern2(df):\n",
    "    \"\"\"\n",
    "    Detects pattern 2 in the given DataFrame.\n",
    "\n",
    "    This function calculates average transaction amount and transaction count \n",
    "    for each customer-merchant pair, filters for pairs with average amount less \n",
    "    than 23 and transaction count greater than or equal to 80, and joins with \n",
    "    customer importance data. The final detections are saved.\n",
    "\n",
    "    Args:\n",
    "        df (DataFrame): Input DataFrame containing transaction data.\n",
    "\n",
    "    Returns:\n",
    "        None\n",
    "    \"\"\"\n",
    "    customer_stats = df.groupBy(\"customer\", \"merchant\").agg(\n",
    "        avg(\"amount\").alias(\"avgAmount\"),\n",
    "        count(\"*\").alias(\"transactionCount\")\n",
    "    )\n",
    "    \n",
    "    pattern2_detections = customer_stats.filter(\n",
    "        (col(\"avgAmount\") < 23) & \n",
    "        (col(\"transactionCount\") >= 80))\n",
    "    \n",
    "    customers = spark.read.csv(\"/Volumes/workspace/default/myprojectdata/CustomerImportance.csv\", header=True)\n",
    "    final_detections = pattern2_detections.join(customers, (pattern2_detections.customer == customers.Source))\n",
    "    \n",
    "    output = final_detections.select(\n",
    "        lit(datetime.now()).alias(\"YStartTime\"),\n",
    "        lit(datetime.now()).alias(\"detectionTime\"),\n",
    "        lit(\"PatId2\").alias(\"patternId\"),\n",
    "        lit(\"CHILD\").alias(\"ActionType\"),\n",
    "        col(\"customer\"),\n",
    "        col(\"merchant\").alias(\"Merchant\")\n",
    "    )\n",
    "    \n",
    "    save_detections(output)\n",
    "\n",
    "def process_pattern3(df):\n",
    "    \"\"\"\n",
    "    Detects pattern 3 in the given DataFrame.\n",
    "\n",
    "    This function calculates the distinct count of customers by gender for each \n",
    "    merchant, pivots the data to have separate columns for male and female counts, \n",
    "    and filters for merchants with more male customers than female customers. \n",
    "    The final detections are saved.\n",
    "\n",
    "    Args:\n",
    "        df (DataFrame): Input DataFrame containing transaction data.\n",
    "\n",
    "    Returns:\n",
    "        None\n",
    "    \"\"\"\n",
    "    gender_counts = df.groupBy(\"merchant\", \"gender\").agg(countDistinct(\"customer\").alias(\"count\"))\n",
    "    pivoted = gender_counts.groupBy(\"merchant\").pivot(\"gender\", [\"Male\", \"Female\"]).sum(\"count\")\n",
    "    pattern3_detections = pivoted.filter(col(\"Male\") > col(\"Female\"))\n",
    "    \n",
    "    output = pattern3_detections.select(\n",
    "        lit(datetime.now()).alias(\"YStartTime\"),\n",
    "        lit(datetime.now()).alias(\"detectionTime\"),\n",
    "        lit(\"PatId3\").alias(\"patternId\"),\n",
    "        lit(\"DEI-NEEDED\").alias(\"ActionType\"),\n",
    "        lit(\"\").alias(\"customerName\"),\n",
    "        col(\"merchant\").alias(\"MerchantId\")\n",
    "    )\n",
    "    \n",
    "    save_detections(output)"
   ]
  },
  {
   "cell_type": "code",
   "execution_count": 0,
   "metadata": {
    "application/vnd.databricks.v1+cell": {
     "cellMetadata": {},
     "inputWidgets": {},
     "nuid": "9efd7bcf-b450-4c29-a6ad-ee6eebd05652",
     "showTitle": true,
     "tableResultSettingsMap": {},
     "title": "Save Detections"
    }
   },
   "outputs": [],
   "source": [
    "def save_detections(df):\n",
    "    \"\"\"\n",
    "    Saves detection results in batches of 50 rows.\n",
    "\n",
    "    This function saves the detection results DataFrame to CSV files in batches of \n",
    "    50 rows each. The files are named with a timestamp and batch index.\n",
    "\n",
    "    Args:\n",
    "        df (DataFrame): DataFrame containing detection results.\n",
    "\n",
    "    Returns:\n",
    "        None\n",
    "    \"\"\"\n",
    "    count = df.count()\n",
    "    for i in range(0, count, 50):\n",
    "        batch = df.limit(50).offset(i)\n",
    "        timestamp = datetime.now().strftime(\"%Y%m%d%H%M%S\")\n",
    "        output_path = f\"/Volumes/workspace/default/myprojectdata/output_bucket/detections_{timestamp}_{i}\"\n",
    "        batch.write.csv(output_path, mode=\"overwrite\", header=True)"
   ]
  },
  {
   "cell_type": "code",
   "execution_count": 0,
   "metadata": {
    "application/vnd.databricks.v1+cell": {
     "cellMetadata": {},
     "inputWidgets": {},
     "nuid": "9745f50b-643f-45e1-b563-efc80b09599c",
     "showTitle": true,
     "tableResultSettingsMap": {},
     "title": "Y"
    }
   },
   "outputs": [],
   "source": [
    "def detect_patterns():\n",
    "    \"\"\"\n",
    "    Detects patterns in transaction data chunks.\n",
    "\n",
    "    This function continuously monitors a directory for new transaction data chunks,\n",
    "    processes each chunk to detect patterns, and moves the processed chunk to a \n",
    "    different directory. It performs the following steps:\n",
    "    1. Lists all CSV files in the specified local directory.\n",
    "    2. For each file, checks if it has already been processed.\n",
    "    3. Reads the file into a Spark DataFrame.\n",
    "    4. Applies pattern detection functions to the DataFrame.\n",
    "    5. Moves the processed file to the processed directory.\n",
    "    6. Waits for 1 second before checking for new files.\n",
    "\n",
    "    Returns:\n",
    "        None\n",
    "    \"\"\"\n",
    "    local_path = \"/Volumes/workspace/default/myprojectdata/raw_chunks/\"\n",
    "    processed_path = \"/Volumes/workspace/default/myprojectdata/processed_file/\"\n",
    "    \n",
    "    while True:\n",
    "        chunks = [f for f in os.listdir(local_path) if f.endswith(\".csv\")]\n",
    "        \n",
    "        for file_name in chunks:\n",
    "            file_path = os.path.join(local_path, file_name)\n",
    "            processed_file_path = os.path.join(processed_path, file_name)\n",
    "            \n",
    "            if os.path.exists(processed_file_path):\n",
    "                continue\n",
    "            \n",
    "            df = spark.read.csv(file_path, header=True, inferSchema=True)\n",
    "            \n",
    "            process_pattern1(df)\n",
    "            process_pattern2(df)\n",
    "            process_pattern3(df)\n",
    "            \n",
    "            os.rename(file_path, processed_file_path)\n",
    "            \n",
    "        time.sleep(1)\n",
    "\n",
    "\n",
    "if __name__ == \"__main__\":\n",
    "    detect_patterns()"
   ]
  }
 ],
 "metadata": {
  "application/vnd.databricks.v1+notebook": {
   "computePreferences": null,
   "dashboards": [],
   "environmentMetadata": {
    "base_environment": "",
    "environment_version": "2"
   },
   "inputWidgetPreferences": null,
   "language": "python",
   "notebookMetadata": {
    "pythonIndentUnit": 4
   },
   "notebookName": "Solution",
   "widgets": {}
  },
  "language_info": {
   "name": "python"
  }
 },
 "nbformat": 4,
 "nbformat_minor": 0
}