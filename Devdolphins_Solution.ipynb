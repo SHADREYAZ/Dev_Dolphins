{
 "cells": [
  {
   "cell_type": "code",
   "execution_count": 0,
   "metadata": {
    "application/vnd.databricks.v1+cell": {
     "cellMetadata": {
      "byteLimit": 2048000,
      "rowLimit": 10000
     },
     "inputWidgets": {},
     "nuid": "df5567de-ef57-409e-980b-6b05f40dcfc1",
     "showTitle": true,
     "tableResultSettingsMap": {},
     "title": "imports"
    }
   },
   "outputs": [],
   "source": [
    "import os\n",
    "from io import StringIO\n",
    "import pandas as pd\n",
    "from pyspark.sql.functions import *\n",
    "from pyspark.sql.window import Window\n",
    "import time\n",
    "from datetime import datetime"
   ]
  },
  {
   "cell_type": "markdown",
   "metadata": {
    "application/vnd.databricks.v1+cell": {
     "cellMetadata": {
      "byteLimit": 2048000,
      "rowLimit": 10000
     },
     "inputWidgets": {},
     "nuid": "344abf84-7b41-4b97-af88-8a67e668693b",
     "showTitle": false,
     "tableResultSettingsMap": {},
     "title": ""
    }
   },
   "source": [
    "Solution X"
   ]
  },
  {
   "cell_type": "code",
   "execution_count": 0,
   "metadata": {
    "application/vnd.databricks.v1+cell": {
     "cellMetadata": {
      "byteLimit": 2048000,
      "rowLimit": 10000
     },
     "inputWidgets": {},
     "nuid": "0d0d928c-7493-42f6-a8ce-764aedbf97ff",
     "showTitle": true,
     "tableResultSettingsMap": {},
     "title": "Solution X"
    }
   },
   "outputs": [],
   "source": [
    "def ingest_transactions():\n",
    "    \"\"\"\n",
    "    Ingests transactions from a CSV file and splits them into smaller chunks.\n",
    "\n",
    "    This function reads a large transactions CSV file from a specified path, splits it into smaller chunks of 10,000 rows each,\n",
    "    and saves each chunk as a separate CSV file in a specified directory. It waits for 1 second between processing each chunk.\n",
    "\n",
    "    The function performs the following steps:\n",
    "    1. Reads the full transactions file from the specified path.\n",
    "    2. Splits the data into chunks of 10,000 rows each.\n",
    "    3. Converts each chunk to a CSV string.\n",
    "    4. Saves each chunk locally in the specified directory.\n",
    "    5. Waits for 1 second before processing the next chunk.\n",
    "\n",
    "    Returns:\n",
    "        None\n",
    "    \"\"\"\n",
    "    \n",
    "    print(\"Mechanism X started...\")\n",
    "    print(\"Processing transactions...\")\n",
    "    transactions_path = \"/Volumes/workspace/default/myprojectdata/transactions.csv\"\n",
    "    full_df = pd.read_csv(transactions_path)\n",
    "    \n",
    "    chunk_size = 10000\n",
    "    total_chunks = len(full_df) // chunk_size + 1\n",
    "    \n",
    "    for i in range(total_chunks):\n",
    "        start_idx = i * chunk_size\n",
    "        end_idx = (i + 1) * chunk_size\n",
    "        chunk = full_df.iloc[start_idx:end_idx]\n",
    "        \n",
    "        csv_buffer = StringIO()\n",
    "        chunk.to_csv(csv_buffer, index=False)\n",
    "        \n",
    "        local_path = f\"/Volumes/workspace/default/myprojectdata/raw_chunks/chunk_{i}.csv\"\n",
    "        with open(local_path, 'w') as f:\n",
    "            f.write(csv_buffer.getvalue())\n",
    "        \n",
    "        time.sleep(1)\n",
    "    print(\"Mechanism X completed successfully.\")"
   ]
  },
  {
   "cell_type": "markdown",
   "metadata": {
    "application/vnd.databricks.v1+cell": {
     "cellMetadata": {
      "byteLimit": 2048000,
      "rowLimit": 10000
     },
     "inputWidgets": {},
     "nuid": "0779d7e5-73da-4065-9491-313aedf025b9",
     "showTitle": false,
     "tableResultSettingsMap": {},
     "title": ""
    }
   },
   "source": [
    "Defining the patterns"
   ]
  },
  {
   "cell_type": "code",
   "execution_count": 0,
   "metadata": {
    "application/vnd.databricks.v1+cell": {
     "cellMetadata": {
      "byteLimit": 2048000,
      "rowLimit": 10000
     },
     "inputWidgets": {},
     "nuid": "959e3ed4-51ed-414a-afc5-1b09e2d3d8bc",
     "showTitle": true,
     "tableResultSettingsMap": {},
     "title": "Pattern 1"
    }
   },
   "outputs": [],
   "source": [
    "def process_pattern1(df):\n",
    "    \"\"\"\n",
    "    Detects pattern 1 in the given DataFrame.\n",
    "\n",
    "    This function identifies the top 1% transactions by amount for each merchant, \n",
    "    joins them with customer importance data, filters for transactions with weight \n",
    "    less than or equal to 0.01, and further filters for merchants with more than \n",
    "    50,000 transactions. The final detections are saved.\n",
    "\n",
    "    Args:\n",
    "        df (DataFrame): Input DataFrame containing transaction data.\n",
    "\n",
    "    Returns:\n",
    "        None\n",
    "    \"\"\"\n",
    "    window = Window.partitionBy(\"merchant\").orderBy(col(\"amount\").desc())\n",
    "    ranked_df = df.withColumn(\"percent_rank\", percent_rank().over(window))\n",
    "    \n",
    "    top_1_percent = ranked_df.filter(col(\"percent_rank\") <= 0.01)\n",
    "    \n",
    "    customer_importance = spark.read.csv(\"/Volumes/workspace/default/myprojectdata/CustomerImportance.csv\", header=True)\n",
    "    joined_df = top_1_percent.join(customer_importance, \n",
    "                                 (top_1_percent.customer == customer_importance.Source) &\n",
    "                                 (top_1_percent.merchant == customer_importance.Target))\n",
    "    \n",
    "    bottom_1_weight = joined_df.filter(col(\"weight\") <= 0.01)\n",
    "    \n",
    "    merchant_totals = df.groupBy(\"merchant\").agg(count(\"*\").alias(\"totalTransactions\"))\n",
    "    valid_merchants = merchant_totals.filter(col(\"totalTransactions\") > 50000)\n",
    "    \n",
    "    final_detections = bottom_1_weight.join(valid_merchants, \"merchant\")\n",
    "    \n",
    "    output = final_detections.select(\n",
    "        lit(datetime.now()).alias(\"YStartTime\"),\n",
    "        lit(datetime.now()).alias(\"detectionTime\"),\n",
    "        lit(\"PatId1\").alias(\"patternId\"),\n",
    "        lit(\"UPGRADE\").alias(\"ActionType\"),\n",
    "        col(\"customer\"),\n",
    "        col(\"merchant\").alias(\"MerchantId\")\n",
    "    )\n",
    "    \n",
    "    timestamp = datetime.now().strftime(\"%Y%m%d%H%M%S\")\n",
    "    output_path = f\"/Volumes/workspace/default/myprojectdata/output_bucket/Pattern_1_detections_{timestamp}\"\n",
    "    df.write.csv(output_path, mode=\"overwrite\", header=True)\n",
    "    print(\"Pattern 1 processed successfully.\")"
   ]
  },
  {
   "cell_type": "code",
   "execution_count": 0,
   "metadata": {
    "application/vnd.databricks.v1+cell": {
     "cellMetadata": {
      "byteLimit": 2048000,
      "rowLimit": 10000
     },
     "inputWidgets": {},
     "nuid": "8b877abe-7d57-43c9-b5d4-cdcd6d5e3fe5",
     "showTitle": true,
     "tableResultSettingsMap": {},
     "title": "Pattern 2"
    }
   },
   "outputs": [],
   "source": [
    "def process_pattern2(df):\n",
    "    \"\"\"\n",
    "    Detects pattern 2 in the given DataFrame.\n",
    "\n",
    "    This function calculates average transaction amount and transaction count \n",
    "    for each customer-merchant pair, filters for pairs with average amount less \n",
    "    than 23 and transaction count greater than or equal to 80, and joins with \n",
    "    customer importance data. The final detections are saved.\n",
    "\n",
    "    Args:\n",
    "        df (DataFrame): Input DataFrame containing transaction data.\n",
    "\n",
    "    Returns:\n",
    "        None\n",
    "    \"\"\"\n",
    "    customer_stats = df.groupBy(\"customer\", \"merchant\").agg(\n",
    "        avg(\"amount\").alias(\"avgAmount\"),\n",
    "        count(\"*\").alias(\"transactionCount\")\n",
    "    )\n",
    "    \n",
    "    pattern2_detections = customer_stats.filter(\n",
    "        (col(\"avgAmount\") < 23) & \n",
    "        (col(\"transactionCount\") >= 80))\n",
    "    \n",
    "    customers = spark.read.csv(\"/Volumes/workspace/default/myprojectdata/CustomerImportance.csv\", header=True)\n",
    "    final_detections = pattern2_detections.join(customers, (pattern2_detections.customer == customers.Source))\n",
    "    \n",
    "    output = final_detections.select(\n",
    "        lit(datetime.now()).alias(\"YStartTime\"),\n",
    "        lit(datetime.now()).alias(\"detectionTime\"),\n",
    "        lit(\"PatId2\").alias(\"patternId\"),\n",
    "        lit(\"CHILD\").alias(\"ActionType\"),\n",
    "        col(\"customer\"),\n",
    "        col(\"merchant\").alias(\"Merchant\")\n",
    "    )\n",
    "    \n",
    "    timestamp = datetime.now().strftime(\"%Y%m%d%H%M%S\")\n",
    "    output_path = f\"/Volumes/workspace/default/myprojectdata/output_bucket/Pattern_2_detections_{timestamp}\"\n",
    "    df.write.csv(output_path, mode=\"overwrite\", header=True)\n",
    "    print(\"Pattern 2 processed successfully.\")"
   ]
  },
  {
   "cell_type": "code",
   "execution_count": 0,
   "metadata": {
    "application/vnd.databricks.v1+cell": {
     "cellMetadata": {
      "byteLimit": 2048000,
      "rowLimit": 10000
     },
     "inputWidgets": {},
     "nuid": "4824499c-61cc-4589-98b0-7bd1432a5ba7",
     "showTitle": true,
     "tableResultSettingsMap": {},
     "title": "Pattern 3"
    }
   },
   "outputs": [],
   "source": [
    "def process_pattern3(df):\n",
    "    \"\"\"\n",
    "    Detects pattern 3 in the given DataFrame.\n",
    "\n",
    "    This function calculates the distinct count of customers by gender for each \n",
    "    merchant, pivots the data to have separate columns for male and female counts, \n",
    "    and filters for merchants with more male customers than female customers. \n",
    "    The final detections are saved.\n",
    "\n",
    "    Args:\n",
    "        df (DataFrame): Input DataFrame containing transaction data.\n",
    "\n",
    "    Returns:\n",
    "        None\n",
    "    \"\"\"\n",
    "    gender_counts = df.groupBy(\"merchant\", \"gender\").agg(countDistinct(\"customer\").alias(\"count\"))\n",
    "    pivoted = gender_counts.groupBy(\"merchant\").pivot(\"gender\", [\"Male\", \"Female\"]).sum(\"count\")\n",
    "    pattern3_detections = pivoted.filter(col(\"Male\") > col(\"Female\"))\n",
    "    \n",
    "    output = pattern3_detections.select(\n",
    "        lit(datetime.now()).alias(\"YStartTime\"),\n",
    "        lit(datetime.now()).alias(\"detectionTime\"),\n",
    "        lit(\"PatId3\").alias(\"patternId\"),\n",
    "        lit(\"DEI-NEEDED\").alias(\"ActionType\"),\n",
    "        lit(\"\").alias(\"customerName\"),\n",
    "        col(\"merchant\").alias(\"MerchantId\")\n",
    "    )\n",
    "    \n",
    "    timestamp = datetime.now().strftime(\"%Y%m%d%H%M%S\")\n",
    "    output_path = f\"/Volumes/workspace/default/myprojectdata/output_bucket/Pattern_3_detections_{timestamp}\"\n",
    "    df.write.csv(output_path, mode=\"overwrite\", header=True)\n",
    "    print(\"Pattern 3 processed successfully.\")"
   ]
  },
  {
   "cell_type": "markdown",
   "metadata": {
    "application/vnd.databricks.v1+cell": {
     "cellMetadata": {
      "byteLimit": 2048000,
      "rowLimit": 10000
     },
     "inputWidgets": {},
     "nuid": "8c5d696e-d05d-4412-bf69-923ae9d0ef7a",
     "showTitle": false,
     "tableResultSettingsMap": {},
     "title": ""
    }
   },
   "source": [
    "Solution Y"
   ]
  },
  {
   "cell_type": "code",
   "execution_count": 0,
   "metadata": {
    "application/vnd.databricks.v1+cell": {
     "cellMetadata": {
      "byteLimit": 2048000,
      "rowLimit": 10000
     },
     "inputWidgets": {},
     "nuid": "9745f50b-643f-45e1-b563-efc80b09599c",
     "showTitle": true,
     "tableResultSettingsMap": {},
     "title": "Question Y"
    }
   },
   "outputs": [],
   "source": [
    "def detect_patterns():\n",
    "    \"\"\"\n",
    "    Detects patterns in transaction data chunks.\n",
    "\n",
    "    This function monitors a directory for new transaction data chunks,\n",
    "    processes each chunk to detect patterns, and moves the processed chunk to a \n",
    "    different directory. It performs the following steps:\n",
    "    1. Lists all CSV files in the specified local directory.\n",
    "    2. For each file, checks if it has already been processed.\n",
    "    3. Reads the file into a Spark DataFrame.\n",
    "    4. Applies pattern detection functions to the DataFrame.\n",
    "    5. Moves the processed file to the processed directory.\n",
    "    6. Waits for 1 second before checking for new files.\n",
    "\n",
    "    Args:\n",
    "        max_iterations (int): Maximum number of iterations to run the loop.\n",
    "\n",
    "    Returns:\n",
    "        None\n",
    "    \"\"\"\n",
    "\n",
    "    print(\"\\nMechanism Y started...\")\n",
    "    print(\"Calculating Patterns...\")\n",
    "\n",
    "    local_path = \"/Volumes/workspace/default/myprojectdata/raw_chunks/\"    \n",
    "    chunks = [f for f in os.listdir(local_path) if f.endswith(\".csv\")]\n",
    "    \n",
    "    for file_name in chunks:\n",
    "        file_path = os.path.join(local_path, file_name)\n",
    "        \n",
    "        df = spark.read.csv(file_path, header=True, inferSchema=True)\n",
    "        \n",
    "        process_pattern1(df)\n",
    "        process_pattern2(df)\n",
    "        process_pattern3(df)\n",
    "\n",
    "    print(\"Mechanism Y completed successfully.\")\n",
    "\n"
   ]
  },
  {
   "cell_type": "code",
   "execution_count": 0,
   "metadata": {
    "application/vnd.databricks.v1+cell": {
     "cellMetadata": {
      "byteLimit": 2048000,
      "rowLimit": 10000
     },
     "inputWidgets": {},
     "nuid": "63dd6bf2-b67f-42d2-a15c-42ea26b64004",
     "showTitle": false,
     "tableResultSettingsMap": {},
     "title": ""
    }
   },
   "outputs": [
    {
     "output_type": "stream",
     "name": "stdout",
     "output_type": "stream",
     "text": [
      "Mechanism X started...\nProcessing transactions...\nMechanism X completed successfully.\n\nMechanism Y started...\nCalculating Patterns...\nPattern 1 processed successfully.\nPattern 2 processed successfully.\nPattern 3 processed successfully.\nPattern 1 processed successfully.\nPattern 2 processed successfully.\nPattern 3 processed successfully.\nPattern 1 processed successfully.\nPattern 2 processed successfully.\nPattern 3 processed successfully.\nPattern 1 processed successfully.\nPattern 2 processed successfully.\nPattern 3 processed successfully.\nPattern 1 processed successfully.\nPattern 2 processed successfully.\nPattern 3 processed successfully.\nPattern 1 processed successfully.\nPattern 2 processed successfully.\nPattern 3 processed successfully.\nPattern 1 processed successfully.\nPattern 2 processed successfully.\nPattern 3 processed successfully.\nPattern 1 processed successfully.\nPattern 2 processed successfully.\nPattern 3 processed successfully.\nPattern 1 processed successfully.\nPattern 2 processed successfully.\nPattern 3 processed successfully.\nPattern 1 processed successfully.\nPattern 2 processed successfully.\nPattern 3 processed successfully.\nPattern 1 processed successfully.\nPattern 2 processed successfully.\nPattern 3 processed successfully.\nPattern 1 processed successfully.\nPattern 2 processed successfully.\nPattern 3 processed successfully.\nPattern 1 processed successfully.\nPattern 2 processed successfully.\nPattern 3 processed successfully.\nPattern 1 processed successfully.\nPattern 2 processed successfully.\nPattern 3 processed successfully.\nPattern 1 processed successfully.\nPattern 2 processed successfully.\nPattern 3 processed successfully.\nPattern 1 processed successfully.\nPattern 2 processed successfully.\nPattern 3 processed successfully.\nPattern 1 processed successfully.\nPattern 2 processed successfully.\nPattern 3 processed successfully.\nPattern 1 processed successfully.\nPattern 2 processed successfully.\nPattern 3 processed successfully.\nPattern 1 processed successfully.\nPattern 2 processed successfully.\nPattern 3 processed successfully.\nPattern 1 processed successfully.\nPattern 2 processed successfully.\nPattern 3 processed successfully.\nPattern 1 processed successfully.\nPattern 2 processed successfully.\nPattern 3 processed successfully.\nPattern 1 processed successfully.\nPattern 2 processed successfully.\nPattern 3 processed successfully.\nPattern 1 processed successfully.\nPattern 2 processed successfully.\nPattern 3 processed successfully.\nPattern 1 processed successfully.\nPattern 2 processed successfully.\nPattern 3 processed successfully.\nPattern 1 processed successfully.\nPattern 2 processed successfully.\nPattern 3 processed successfully.\nPattern 1 processed successfully.\nPattern 2 processed successfully.\nPattern 3 processed successfully.\nPattern 1 processed successfully.\nPattern 2 processed successfully.\nPattern 3 processed successfully.\nPattern 1 processed successfully.\nPattern 2 processed successfully.\nPattern 3 processed successfully.\nPattern 1 processed successfully.\nPattern 2 processed successfully.\nPattern 3 processed successfully.\nPattern 1 processed successfully.\nPattern 2 processed successfully.\nPattern 3 processed successfully.\nPattern 1 processed successfully.\nPattern 2 processed successfully.\nPattern 3 processed successfully.\nPattern 1 processed successfully.\nPattern 2 processed successfully.\nPattern 3 processed successfully.\nPattern 1 processed successfully.\nPattern 2 processed successfully.\nPattern 3 processed successfully.\nPattern 1 processed successfully.\nPattern 2 processed successfully.\nPattern 3 processed successfully.\nPattern 1 processed successfully.\nPattern 2 processed successfully.\nPattern 3 processed successfully.\nPattern 1 processed successfully.\nPattern 2 processed successfully.\nPattern 3 processed successfully.\nPattern 1 processed successfully.\nPattern 2 processed successfully.\nPattern 3 processed successfully.\nPattern 1 processed successfully.\nPattern 2 processed successfully.\nPattern 3 processed successfully.\nPattern 1 processed successfully.\nPattern 2 processed successfully.\nPattern 3 processed successfully.\nPattern 1 processed successfully.\nPattern 2 processed successfully.\nPattern 3 processed successfully.\nPattern 1 processed successfully.\nPattern 2 processed successfully.\nPattern 3 processed successfully.\nPattern 1 processed successfully.\nPattern 2 processed successfully.\nPattern 3 processed successfully.\nPattern 1 processed successfully.\nPattern 2 processed successfully.\nPattern 3 processed successfully.\nPattern 1 processed successfully.\nPattern 2 processed successfully.\nPattern 3 processed successfully.\nPattern 1 processed successfully.\nPattern 2 processed successfully.\nPattern 3 processed successfully.\nPattern 1 processed successfully.\nPattern 2 processed successfully.\nPattern 3 processed successfully.\nPattern 1 processed successfully.\nPattern 2 processed successfully.\nPattern 3 processed successfully.\nPattern 1 processed successfully.\nPattern 2 processed successfully.\nPattern 3 processed successfully.\nPattern 1 processed successfully.\nPattern 2 processed successfully.\nPattern 3 processed successfully.\nPattern 1 processed successfully.\nPattern 2 processed successfully.\nPattern 3 processed successfully.\nPattern 1 processed successfully.\nPattern 2 processed successfully.\nPattern 3 processed successfully.\nPattern 1 processed successfully.\nPattern 2 processed successfully.\nPattern 3 processed successfully.\nPattern 1 processed successfully.\nPattern 2 processed successfully.\nPattern 3 processed successfully.\nPattern 1 processed successfully.\nPattern 2 processed successfully.\nPattern 3 processed successfully.\nPattern 1 processed successfully.\nPattern 2 processed successfully.\nPattern 3 processed successfully.\nPattern 1 processed successfully.\nPattern 2 processed successfully.\nPattern 3 processed successfully.\nPattern 1 processed successfully.\nPattern 2 processed successfully.\nPattern 3 processed successfully.\nPattern 1 processed successfully.\nPattern 2 processed successfully.\nPattern 3 processed successfully.\nPattern 1 processed successfully.\nPattern 2 processed successfully.\nPattern 3 processed successfully.\nPattern 1 processed successfully.\nPattern 2 processed successfully.\nPattern 3 processed successfully.\nMechanism Y completed successfully.\n"
     ]
    }
   ],
   "source": [
    "if __name__ == \"__main__\":\n",
    "    ingest_transactions()\n",
    "    detect_patterns()"
   ]
  }
 ],
 "metadata": {
  "application/vnd.databricks.v1+notebook": {
   "computePreferences": null,
   "dashboards": [],
   "environmentMetadata": {
    "base_environment": "",
    "environment_version": "2"
   },
   "inputWidgetPreferences": null,
   "language": "python",
   "notebookMetadata": {
    "pythonIndentUnit": 4
   },
   "notebookName": "Devdolphins_Solution",
   "widgets": {}
  },
  "language_info": {
   "name": "python"
  }
 },
 "nbformat": 4,
 "nbformat_minor": 0
}